{
 "cells": [
  {
   "cell_type": "code",
   "execution_count": 21,
   "id": "bb8a0fd0",
   "metadata": {},
   "outputs": [],
   "source": [
    "import cv2\n",
    "import os\n",
    "import tensorflow as tf\n",
    "import numpy as np\n",
    "from tensorflow.keras.layers import Conv2D, MaxPooling2D, Flatten, Dense\n",
    "from sklearn.model_selection import train_test_split\n",
    "from keras.layers import *\n",
    "from keras.models import Sequential\n",
    "from tensorflow.keras.utils import to_categorical\n",
    "from keras.callbacks import EarlyStopping,CSVLogger\n",
    "from tensorflow.keras.utils import plot_model\n",
    "import matplotlib.pyplot as plt\n"
   ]
  },
  {
   "cell_type": "code",
   "execution_count": 22,
   "id": "54e2b404",
   "metadata": {},
   "outputs": [],
   "source": [
    "# Specify the height and width to which each video frame will be resized in our dataset.\n",
    "IMAGE_HEIGHT , IMAGE_WIDTH = 64, 64\n",
    "\n",
    "SEQUENCE_LENGTH = 20\n",
    "\n",
    "DATASET_DIR = \"./Fire_Complete/\"\n",
    " \n",
    "CLASSES_LIST = [\"Fire\",\"noFire\"]"
   ]
  },
  {
   "cell_type": "code",
   "execution_count": 3,
   "id": "72f95780",
   "metadata": {},
   "outputs": [
    {
     "name": "stdout",
     "output_type": "stream",
     "text": [
      "Model: \"sequential\"\n",
      "_________________________________________________________________\n",
      " Layer (type)                Output Shape              Param #   \n",
      "=================================================================\n",
      " conv2d (Conv2D)             (None, 62, 62, 32)        896       \n",
      "                                                                 \n",
      " max_pooling2d (MaxPooling2D  (None, 31, 31, 32)       0         \n",
      " )                                                               \n",
      "                                                                 \n",
      " conv2d_1 (Conv2D)           (None, 29, 29, 64)        18496     \n",
      "                                                                 \n",
      " max_pooling2d_1 (MaxPooling  (None, 14, 14, 64)       0         \n",
      " 2D)                                                             \n",
      "                                                                 \n",
      " conv2d_2 (Conv2D)           (None, 12, 12, 128)       73856     \n",
      "                                                                 \n",
      " max_pooling2d_2 (MaxPooling  (None, 6, 6, 128)        0         \n",
      " 2D)                                                             \n",
      "                                                                 \n",
      " flatten (Flatten)           (None, 4608)              0         \n",
      "                                                                 \n",
      " dense (Dense)               (None, 64)                294976    \n",
      "                                                                 \n",
      " dense_1 (Dense)             (None, 2)                 130       \n",
      "                                                                 \n",
      "=================================================================\n",
      "Total params: 388,354\n",
      "Trainable params: 388,354\n",
      "Non-trainable params: 0\n",
      "_________________________________________________________________\n"
     ]
    }
   ],
   "source": [
    "\n",
    "model = tf.keras.Sequential([\n",
    "    Conv2D(32, (3, 3), activation='relu', input_shape=(IMAGE_HEIGHT, IMAGE_WIDTH, 3)),\n",
    "    MaxPooling2D((2, 2)),\n",
    "    Conv2D(64, (3, 3), activation='relu'),\n",
    "    MaxPooling2D((2, 2)),\n",
    "    Conv2D(128, (3, 3), activation='relu'),\n",
    "    MaxPooling2D((2, 2)),\n",
    "    Flatten(),\n",
    "    Dense(64, activation='relu'),\n",
    "    Dense(len(CLASSES_LIST), activation='sigmoid')\n",
    "])\n",
    "\n",
    "model.compile(optimizer='adam', loss='binary_crossentropy', metrics=['accuracy'])\n",
    "model.summary()\n",
    "\n"
   ]
  },
  {
   "cell_type": "code",
   "execution_count": 23,
   "id": "8aab2de4",
   "metadata": {},
   "outputs": [],
   "source": [
    "def create_dataset():    \n",
    "    features = []\n",
    "    labels = []\n",
    "    for class_index, class_name in enumerate(CLASSES_LIST):\n",
    "\n",
    "        print(f'Extracting Data of Class: {class_name}')\n",
    "\n",
    "        # Get the list of video files present in the specific class name directory.\n",
    "        files_list = os.listdir(os.path.join(DATASET_DIR, class_name))\n",
    "        for img in files_list:\n",
    "            path = os.path.join(DATASET_DIR, class_name, img)\n",
    "            image = cv2.imread(path)\n",
    "            resized_img = cv2.resize(image, (IMAGE_HEIGHT, IMAGE_WIDTH))\n",
    "            # Normalize the resized frame\n",
    "            normalized_img = resized_img / 255\n",
    "            features.append(normalized_img)\n",
    "            labels.append(class_index)\n",
    "    features = np.asarray(features)\n",
    "    labels = np.array(labels)\n",
    "    return features,labels"
   ]
  },
  {
   "cell_type": "code",
   "execution_count": 24,
   "id": "0352bd6d",
   "metadata": {},
   "outputs": [
    {
     "name": "stdout",
     "output_type": "stream",
     "text": [
      "Extracting Data of Class: Fire\n",
      "Extracting Data of Class: noFire\n"
     ]
    }
   ],
   "source": [
    "features, labels = create_dataset()"
   ]
  },
  {
   "cell_type": "code",
   "execution_count": 25,
   "id": "1a9a9826",
   "metadata": {},
   "outputs": [],
   "source": [
    "one_hot_encoded_labels = to_categorical(labels)"
   ]
  },
  {
   "cell_type": "code",
   "execution_count": 26,
   "id": "7728ac81",
   "metadata": {},
   "outputs": [
    {
     "name": "stdout",
     "output_type": "stream",
     "text": [
      "(925, 64, 64, 3)\n",
      "(925, 2)\n"
     ]
    }
   ],
   "source": [
    "print((features.shape))\n",
    "print((one_hot_encoded_labels.shape))"
   ]
  },
  {
   "cell_type": "code",
   "execution_count": 27,
   "id": "adff25b1",
   "metadata": {},
   "outputs": [],
   "source": [
    "features_train, features_test, labels_train, labels_test = train_test_split(features, one_hot_encoded_labels, test_size = 0.2,\n",
    "                                                                            shuffle = True, random_state = 42)"
   ]
  },
  {
   "cell_type": "code",
   "execution_count": 28,
   "id": "a75ecdff",
   "metadata": {},
   "outputs": [
    {
     "name": "stdout",
     "output_type": "stream",
     "text": [
      "(740, 64, 64, 3) (740, 2)\n",
      "(185, 64, 64, 3) (185, 2)\n"
     ]
    }
   ],
   "source": [
    "print(features_train.shape,labels_train.shape )\n",
    "print(features_test.shape, labels_test.shape)"
   ]
  },
  {
   "cell_type": "code",
   "execution_count": 66,
   "id": "82551817",
   "metadata": {},
   "outputs": [
    {
     "name": "stdout",
     "output_type": "stream",
     "text": [
      "Epoch 1/20\n",
      "19/19 [==============================] - 3s 130ms/step - loss: 0.5941 - accuracy: 0.6740 - val_loss: 0.5268 - val_accuracy: 0.6689\n",
      "Epoch 2/20\n",
      "19/19 [==============================] - 2s 121ms/step - loss: 0.3857 - accuracy: 0.8243 - val_loss: 0.2821 - val_accuracy: 0.8851\n",
      "Epoch 3/20\n",
      "19/19 [==============================] - 2s 125ms/step - loss: 0.3080 - accuracy: 0.8818 - val_loss: 0.3836 - val_accuracy: 0.8716\n",
      "Epoch 4/20\n",
      "19/19 [==============================] - 3s 154ms/step - loss: 0.2472 - accuracy: 0.9088 - val_loss: 0.3810 - val_accuracy: 0.8716\n",
      "Epoch 5/20\n",
      "19/19 [==============================] - 12s 639ms/step - loss: 0.2572 - accuracy: 0.8919 - val_loss: 0.2736 - val_accuracy: 0.9189\n",
      "Epoch 6/20\n",
      "19/19 [==============================] - 10s 524ms/step - loss: 0.2169 - accuracy: 0.9122 - val_loss: 0.2311 - val_accuracy: 0.8851\n",
      "Epoch 7/20\n",
      "19/19 [==============================] - 6s 318ms/step - loss: 0.1923 - accuracy: 0.9274 - val_loss: 0.2551 - val_accuracy: 0.9257\n",
      "Epoch 8/20\n",
      "19/19 [==============================] - 5s 237ms/step - loss: 0.1751 - accuracy: 0.9240 - val_loss: 0.2413 - val_accuracy: 0.8919\n",
      "Epoch 9/20\n",
      "19/19 [==============================] - 4s 234ms/step - loss: 0.1343 - accuracy: 0.9645 - val_loss: 0.2913 - val_accuracy: 0.9189\n",
      "Epoch 10/20\n",
      "19/19 [==============================] - 5s 254ms/step - loss: 0.1103 - accuracy: 0.9645 - val_loss: 0.2394 - val_accuracy: 0.9054\n",
      "Epoch 11/20\n",
      "19/19 [==============================] - 4s 201ms/step - loss: 0.1247 - accuracy: 0.9578 - val_loss: 0.2417 - val_accuracy: 0.9054\n",
      "Epoch 12/20\n",
      "19/19 [==============================] - 3s 160ms/step - loss: 0.0887 - accuracy: 0.9628 - val_loss: 0.3174 - val_accuracy: 0.9189\n",
      "Epoch 13/20\n",
      "19/19 [==============================] - 3s 161ms/step - loss: 0.0830 - accuracy: 0.9747 - val_loss: 0.2551 - val_accuracy: 0.9054\n",
      "Epoch 14/20\n",
      "19/19 [==============================] - 3s 136ms/step - loss: 0.0739 - accuracy: 0.9831 - val_loss: 0.4294 - val_accuracy: 0.9122\n",
      "Epoch 15/20\n",
      "19/19 [==============================] - 3s 133ms/step - loss: 0.0576 - accuracy: 0.9797 - val_loss: 0.2979 - val_accuracy: 0.8986\n",
      "Epoch 16/20\n",
      "19/19 [==============================] - 2s 125ms/step - loss: 0.0453 - accuracy: 0.9882 - val_loss: 0.3613 - val_accuracy: 0.9189\n",
      "Epoch 17/20\n",
      "19/19 [==============================] - 3s 157ms/step - loss: 0.0339 - accuracy: 0.9916 - val_loss: 0.5434 - val_accuracy: 0.8986\n",
      "Epoch 18/20\n",
      "19/19 [==============================] - 2s 126ms/step - loss: 0.0326 - accuracy: 0.9899 - val_loss: 0.3790 - val_accuracy: 0.9189\n",
      "Epoch 19/20\n",
      "19/19 [==============================] - 2s 130ms/step - loss: 0.0214 - accuracy: 0.9949 - val_loss: 0.4263 - val_accuracy: 0.9189\n",
      "Epoch 20/20\n",
      "19/19 [==============================] - 38s 2s/step - loss: 0.0168 - accuracy: 0.9949 - val_loss: 0.4458 - val_accuracy: 0.9189\n"
     ]
    }
   ],
   "source": [
    "# Create Early Stopping Callback to monitor the accuracy\n",
    "early_stopping_callback = EarlyStopping(monitor = 'val_accuracy', patience = 10, restore_best_weights = True)\n",
    "\n",
    "# Create ReduceLROnPlateau Callback to reduce overfitting by decreasing learning\n",
    "reduce_lr = tf.keras.callbacks.ReduceLROnPlateau(monitor='val_loss',\n",
    "                                                  factor=0.6,\n",
    "                                                  patience=5,\n",
    "                                                  min_lr=0.00005,\n",
    "                                                  verbose=1)\n",
    " \n",
    "# Compiling the model \n",
    "#model.compile(loss = 'binary_crossentropy', optimizer = 'sgd', metrics = [\"accuracy\"])\n",
    " \n",
    "csv_logger = CSVLogger('training.log', separator=',', append=False)\n",
    "   \n",
    "# Fitting the model \n",
    "model_history = model.fit(x = features_train, y = labels_train, epochs = 20,\n",
    "                                             shuffle = True, validation_split = 0.2)\n",
    "#, callbacks =   [early_stopping_callback,reduce_lr,csv_logger]"
   ]
  },
  {
   "cell_type": "code",
   "execution_count": 29,
   "id": "26b1f4d6",
   "metadata": {},
   "outputs": [
    {
     "name": "stdout",
     "output_type": "stream",
     "text": [
      "6/6 [==============================] - 1s 66ms/step - loss: 0.6337 - accuracy: 0.8486\n"
     ]
    }
   ],
   "source": [
    "#model.fit(train_data, epochs=10, validation_data=val_data)\n",
    "#test_data = dataset['test']\n",
    "model_evaluation_history = model.evaluate(features_test,labels_test)\n",
    "#print('Test accuracy:', accuracy)\n"
   ]
  },
  {
   "cell_type": "code",
   "execution_count": 26,
   "id": "af8f36ec",
   "metadata": {},
   "outputs": [
    {
     "name": "stdout",
     "output_type": "stream",
     "text": [
      "fire_model_84.h5\n"
     ]
    }
   ],
   "source": [
    "# Get the loss and accuracy from model_evaluation_history.\n",
    "model_evaluation_loss, model_evaluation_accuracy = model_evaluation_history\n",
    "   \n",
    "model_file_name = f'fire_model_{int((model_evaluation_accuracy)*100)}.h5'\n",
    "print(model_file_name)\n",
    "# Save the Model.\n",
    "model.save(model_file_name)"
   ]
  },
  {
   "cell_type": "code",
   "execution_count": 30,
   "id": "56ebaf08",
   "metadata": {},
   "outputs": [],
   "source": [
    "from tensorflow.keras.models import load_model"
   ]
  },
  {
   "cell_type": "code",
   "execution_count": 46,
   "id": "f48d81d8",
   "metadata": {},
   "outputs": [],
   "source": [
    "model=load_model('fire_model_84.h5')"
   ]
  },
  {
   "cell_type": "code",
   "execution_count": 32,
   "id": "ae15f226",
   "metadata": {},
   "outputs": [],
   "source": [
    "from sklearn import metrics"
   ]
  },
  {
   "cell_type": "code",
   "execution_count": 33,
   "id": "7bad1ee3",
   "metadata": {},
   "outputs": [
    {
     "name": "stdout",
     "output_type": "stream",
     "text": [
      "6/6 [==============================] - 1s 56ms/step\n"
     ]
    }
   ],
   "source": [
    "predicted=model.predict(features_test)"
   ]
  },
  {
   "cell_type": "code",
   "execution_count": 34,
   "id": "f67b62ad",
   "metadata": {},
   "outputs": [
    {
     "name": "stdout",
     "output_type": "stream",
     "text": [
      "(185, 2)\n"
     ]
    },
    {
     "data": {
      "text/plain": [
       "(185, 2)"
      ]
     },
     "execution_count": 34,
     "metadata": {},
     "output_type": "execute_result"
    }
   ],
   "source": [
    "print(predicted.shape)\n",
    "labels_test.shape"
   ]
  },
  {
   "cell_type": "code",
   "execution_count": 35,
   "id": "a41c438f",
   "metadata": {},
   "outputs": [],
   "source": [
    "predicted_new=np.zeros((predicted.shape[0],1))\n",
    "actual=np.zeros((predicted.shape[0],1))"
   ]
  },
  {
   "cell_type": "code",
   "execution_count": 36,
   "id": "6b0eb719",
   "metadata": {},
   "outputs": [],
   "source": [
    "for i in range(len(actual)):\n",
    "    if labels_test[i][0]> labels_test[i][1]:\n",
    "        actual[i][0]=1"
   ]
  },
  {
   "cell_type": "code",
   "execution_count": 37,
   "id": "efaa37aa",
   "metadata": {},
   "outputs": [],
   "source": [
    "for i in range(len(predicted_new)):\n",
    "    if predicted[i][0]>predicted[i][1]:\n",
    "        predicted_new[i][0]=1"
   ]
  },
  {
   "cell_type": "code",
   "execution_count": 38,
   "id": "a169fe9c",
   "metadata": {},
   "outputs": [
    {
     "data": {
      "image/png": "[encoded data removed]",
      "text/plain": [
       "<Figure size 432x288 with 2 Axes>"
      ]
     },
     "metadata": {
      "needs_background": "light"
     },
     "output_type": "display_data"
    }
   ],
   "source": [
    "confusion_matrix = metrics.confusion_matrix(actual, predicted_new)\n",
    "\n",
    "cm_display = metrics.ConfusionMatrixDisplay(confusion_matrix = confusion_matrix, display_labels = ['Fight', 'No Fight'])\n",
    "\n",
    "cm_display.plot()\n",
    "plt.show()"
   ]
  },
  {
   "cell_type": "code",
   "execution_count": 39,
   "id": "b4b5005e",
   "metadata": {},
   "outputs": [
    {
     "name": "stdout",
     "output_type": "stream",
     "text": [
      "Precision is: 0.8191489361702128\n",
      "Recall is: 0.875\n",
      "F1 score is: 0.8461538461538463\n"
     ]
    }
   ],
   "source": [
    "print(f'Precision is: {metrics.precision_score(actual,predicted_new)}')\n",
    "print(f'Recall is: {metrics.recall_score(actual,predicted_new)}')\n",
    "print(f'F1 score is: {metrics.f1_score(actual,predicted_new)}')"
   ]
  },
  {
   "cell_type": "code",
   "execution_count": 40,
   "id": "9d8d59a6",
   "metadata": {},
   "outputs": [],
   "source": [
    "def predict_video(video_file_path):\n",
    " \n",
    "    video_reader = cv2.VideoCapture(video_file_path)\n",
    " \n",
    "    # Get the width and height of the video.\n",
    "    original_video_width = int(video_reader.get(cv2.CAP_PROP_FRAME_WIDTH))\n",
    "    original_video_height = int(video_reader.get(cv2.CAP_PROP_FRAME_HEIGHT))\n",
    " \n",
    "    # Declare a list to store video frames we will extract.\n",
    "    frames_list = []\n",
    "    \n",
    "    # Store the predicted class in the video.\n",
    "    predicted_class_name = ''\n",
    " \n",
    "    # Get the number of frames in the video.\n",
    "    video_frames_count = int(video_reader.get(cv2.CAP_PROP_FRAME_COUNT))\n",
    " \n",
    "    # Calculate the interval after which frames will be added to the list.\n",
    "    skip_frames_window = max(int(video_frames_count/SEQUENCE_LENGTH),1)\n",
    " \n",
    "    # Iterating the number of times equal to the fixed length of sequence.\n",
    "    for frame_counter in range(SEQUENCE_LENGTH):\n",
    " \n",
    "        # Set the current frame position of the video.\n",
    "        video_reader.set(cv2.CAP_PROP_POS_FRAMES, frame_counter * skip_frames_window)\n",
    " \n",
    "        success, frame = video_reader.read() \n",
    " \n",
    "        if not success:\n",
    "            break\n",
    " \n",
    "        # Resize the Frame to fixed Dimensions.\n",
    "        resized_frame = cv2.resize(frame, (IMAGE_HEIGHT, IMAGE_WIDTH))\n",
    "        \n",
    "        # Normalize the resized frame.\n",
    "        normalized_frame = resized_frame / 255\n",
    "        \n",
    "        # Appending the pre-processed frame into the frames list\n",
    "        frames_list.append(normalized_frame)\n",
    " \n",
    "    predicted_labels_probabilities = []\n",
    "    predicted_label_lst = []\n",
    "    # Passing the  pre-processed frames to the model and get the predicted probabilities.\n",
    "    avg = [0,0]\n",
    "    for i in range(SEQUENCE_LENGTH):\n",
    "        \n",
    "        predicted_labels_probabilities.append(model.predict(np.expand_dims(frames_list[i], axis = 0))[0])\n",
    "        avg[0] += predicted_labels_probabilities[len(predicted_labels_probabilities)-1][0]\n",
    "        avg[1] += predicted_labels_probabilities[len(predicted_labels_probabilities)-1][1]\n",
    "        \n",
    "        # Get the index of class with highest probability.\n",
    "        #predicted_label_lst.append(np.argmax(predicted_labels_probabilities))\n",
    "    \n",
    "    #count_0 = predicted_label_lst.count(0)\n",
    "    #count_1 = predicted_label_lst.count(1)\n",
    "    \n",
    "    avg[0] /= 20\n",
    "    avg[1] /= 20\n",
    "    if avg[0] > avg[1]:\n",
    "        predicted_label = 0\n",
    "    else:\n",
    "        predicted_label = 1\n",
    "    \n",
    "    # Get the class name using the retrieved index.\n",
    "    predicted_class_name = CLASSES_LIST[predicted_label]\n",
    "    \n",
    "    # Display the predicted class along with the prediction confidence.\n",
    "    print(f'Predicted: {predicted_class_name}\\nConfidence: {avg[predicted_label]}')\n",
    "        \n",
    "    video_reader.release()"
   ]
  },
  {
   "cell_type": "code",
   "execution_count": 54,
   "id": "a4820690",
   "metadata": {},
   "outputs": [
    {
     "name": "stdout",
     "output_type": "stream",
     "text": [
      "1/1 [==============================] - 0s 47ms/step\n",
      "1/1 [==============================] - 0s 40ms/step\n",
      "1/1 [==============================] - 0s 32ms/step\n",
      "1/1 [==============================] - 0s 42ms/step\n",
      "1/1 [==============================] - 0s 42ms/step\n",
      "1/1 [==============================] - 0s 32ms/step\n",
      "1/1 [==============================] - 0s 40ms/step\n",
      "1/1 [==============================] - 0s 39ms/step\n",
      "1/1 [==============================] - 0s 41ms/step\n",
      "1/1 [==============================] - 0s 41ms/step\n",
      "1/1 [==============================] - 0s 43ms/step\n",
      "1/1 [==============================] - 0s 38ms/step\n",
      "1/1 [==============================] - 0s 38ms/step\n",
      "1/1 [==============================] - 0s 38ms/step\n",
      "1/1 [==============================] - 0s 40ms/step\n",
      "1/1 [==============================] - 0s 48ms/step\n",
      "1/1 [==============================] - 0s 50ms/step\n",
      "1/1 [==============================] - 0s 36ms/step\n",
      "1/1 [==============================] - 0s 49ms/step\n",
      "1/1 [==============================] - 0s 38ms/step\n",
      "Predicted: noFire\n",
      "Confidence: 0.9430145367980003\n"
     ]
    }
   ],
   "source": [
    "# Specifying video to be predicted\n",
    "input_video_file_path = \"test3.mp4\"\n",
    "\n",
    "# Perform Single Prediction on the Test Video.\n",
    "predict_video(input_video_file_path)\n"
   ]
  },
  {
   "cell_type": "code",
   "execution_count": null,
   "id": "bc63632c",
   "metadata": {},
   "outputs": [],
   "source": []
  }
 ],
 "metadata": {
  "kernelspec": {
   "display_name": "Python 3 (ipykernel)",
   "language": "python",
   "name": "python3"
  },
  "language_info": {
   "codemirror_mode": {
    "name": "ipython",
    "version": 3
   },
   "file_extension": ".py",
   "mimetype": "text/x-python",
   "name": "python",
   "nbconvert_exporter": "python",
   "pygments_lexer": "ipython3",
   "version": "3.9.7"
  }
 },
 "nbformat": 4,
 "nbformat_minor": 5
}
